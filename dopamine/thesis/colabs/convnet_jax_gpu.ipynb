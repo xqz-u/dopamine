{
 "cells": [
  {
   "cell_type": "code",
   "execution_count": null,
   "id": "8376db3a-a263-4cea-8187-e811f5f6be64",
   "metadata": {
    "collapsed": false,
    "id": "T0tmZXQnvpL0"
   },
   "outputs": [],
   "source": [
    "# %cd /content\n",
    "# !rm -rf thesis dopamine\n",
    "# !git clone https://github.com/xqz-u/dopamine.git\n",
    "# %mv dopamine thesis"
   ]
  },
  {
   "cell_type": "code",
   "execution_count": null,
   "id": "9e9fd958-890b-4cdf-86bb-8e4772872c5e",
   "metadata": {
    "collapsed": false,
    "id": "2B-s5sb8x6uC"
   },
   "outputs": [],
   "source": [
    "# %cd thesis/dopamine\n",
    "# !git checkout refactor"
   ]
  },
  {
   "cell_type": "code",
   "execution_count": null,
   "id": "546a8732-e4ca-4688-b2bb-b55f187a1ac3",
   "metadata": {
    "collapsed": false,
    "id": "M2GpcAA1M7U3"
   },
   "outputs": [],
   "source": [
    "# !pip install -r requirements.txt"
   ]
  },
  {
   "cell_type": "code",
   "execution_count": null,
   "id": "b4661eaf-167c-4344-b3e5-e5bbf277ac31",
   "metadata": {
    "collapsed": false
   },
   "outputs": [],
   "source": [
    "%cd ../../\n",
    "%pwd"
   ]
  },
  {
   "cell_type": "code",
   "execution_count": null,
   "id": "b3d8d2f9-fbbf-486a-ad3d-685ed13ee3cb",
   "metadata": {
    "collapsed": false,
    "id": "OClnSDPs1qmQ"
   },
   "outputs": [],
   "source": [
    "import time\n",
    "\n",
    "import jax\n",
    "from jax import numpy as jnp\n",
    "from jax import random as jrand\n",
    "from thesis import custom_pytrees, networks\n",
    "\n",
    "print(f\"jax device: {jax.default_backend()}\")"
   ]
  },
  {
   "cell_type": "code",
   "execution_count": null,
   "id": "405d8734-6d61-4873-9f3b-3d01b6f270f1",
   "metadata": {
    "collapsed": false,
    "id": "4SiXTc-Hv1L5"
   },
   "outputs": [],
   "source": [
    "def eval_net(net, params, state):\n",
    "    return net.apply(params, state)\n",
    "\n",
    "\n",
    "eval_net_jit = jax.jit(eval_net, static_argnums=(0,))\n",
    "\n",
    "\n",
    "rng = custom_pytrees.PRNGKeyWrap(5)\n",
    "state_shape = (84, 84, 4)\n",
    "\n",
    "net = networks.NatureDQNNetwork(num_actions=2)\n",
    "params = net.init(next(rng), jnp.zeros(state_shape))\n",
    "print(jax.tree_map(jnp.shape, params))"
   ]
  },
  {
   "cell_type": "code",
   "execution_count": null,
   "id": "85e71b87-581b-455b-92a3-59b60ecca91a",
   "metadata": {
    "collapsed": false,
    "id": "ZaNKz2uA3tPu"
   },
   "outputs": [],
   "source": [
    "%%timeit -n10\n",
    "res = eval_net(net, params, jrand.randint(next(rng), state_shape, minval=0, maxval=256)).block_until_ready()"
   ]
  },
  {
   "cell_type": "code",
   "execution_count": null,
   "id": "25e9bca0-62eb-4de1-bdb8-c757eb6d6fe6",
   "metadata": {
    "collapsed": false,
    "id": "Xndlc0hd3-5z"
   },
   "outputs": [],
   "source": [
    "%%timeit -n10\n",
    "res = eval_net_jit(net, params, jrand.randint(next(rng), state_shape, minval=0, maxval=256)).block_until_ready()"
   ]
  },
  {
   "cell_type": "code",
   "execution_count": null,
   "id": "0e6512d4-4a3c-4190-9317-bc100bf57308",
   "metadata": {
    "collapsed": false
   },
   "outputs": [],
   "source": [
    "import matplotlib\n",
    "matplotlib.get_backend()"
   ]
  },
  {
   "cell_type": "code",
   "execution_count": null,
   "id": "43286f61-c658-43d3-8935-fea3862007f0",
   "metadata": {
    "collapsed": false
   },
   "outputs": [],
   "source": [
    "import matplotlib.pyplot as plt\n",
    "\n",
    "plt.plot([1, 2, 3, 4, 5, 6])\n",
    "plt.ylabel('some numbers')\n",
    "plt.show()"
   ]
  },
  {
   "cell_type": "code",
   "execution_count": null,
   "id": "1c796d1f-2c5c-46ae-af46-6ced7b5ef44e",
   "metadata": {
    "collapsed": false
   },
   "outputs": [],
   "source": []
  }
 ],
 "metadata": {
  "accelerator": "GPU",
  "colab": {
   "collapsed_sections": [],
   "name": "convnet_jax_gpu.ipynb",
   "private_outputs": true,
   "provenance": []
  },
  "gpuClass": "standard",
  "kernelspec": {
   "argv": [
    "python",
    "-m",
    "ipykernel_launcher",
    "-f",
    "{connection_file}"
   ],
   "display_name": "Python 3 (ipykernel)",
   "env": null,
   "interrupt_mode": "signal",
   "language": "python",
   "metadata": {
    "debugger": true
   },
   "name": "python3"
  },
  "language_info": {
   "name": "python"
  },
  "name": "convnet_jax_gpu.ipynb"
 },
 "nbformat": 4,
 "nbformat_minor": 0
}
